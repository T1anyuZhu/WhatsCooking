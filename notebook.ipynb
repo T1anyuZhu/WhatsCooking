{
 "cells": [
  {
   "cell_type": "code",
   "execution_count": 260,
   "metadata": {
    "collapsed": true
   },
   "outputs": [],
   "source": [
    "#import some necessary libraries\n",
    "import re\n",
    "\n",
    "import matplotlib as mpl\n",
    "import nltk\n",
    "% matplotlib inline\n",
    "import matplotlib.pyplot as plt\n",
    "import numpy as np\n",
    "import pandas as pd\n",
    "import seaborn as sns\n",
    "sns.set(style=\"white\", context=\"talk\")\n",
    "from collections import Counter\n",
    "from IPython.display import display\n"
   ]
  },
  {
   "cell_type": "code",
   "execution_count": 262,
   "metadata": {},
   "outputs": [
    {
     "data": {
      "text/plain": [
       "((39774, 3), (9944, 2))"
      ]
     },
     "execution_count": 262,
     "metadata": {},
     "output_type": "execute_result"
    }
   ],
   "source": [
    "#  use pandas to load data from JSON file.\n",
    "\n",
    "train_df = pd.read_json('input/train.json', encoding='utf-8')\n",
    "test_df = pd.read_json('input/test.json', encoding='utf-8')\n",
    "train_df.shape, test_df.shape"
   ]
  },
  {
   "cell_type": "markdown",
   "metadata": {},
   "source": [
    "From the result we know that there are 39,774 samples in the training set and 9,944 samples in the test set. Now we will use head() function in Pandas to see how samples look like."
   ]
  },
  {
   "cell_type": "code",
   "execution_count": 263,
   "metadata": {
    "collapsed": true
   },
   "outputs": [
    {
     "data": {
      "text/html": [
       "<div>\n",
       "<style>\n",
       "    .dataframe thead tr:only-child th {\n",
       "        text-align: right;\n",
       "    }\n",
       "\n",
       "    .dataframe thead th {\n",
       "        text-align: left;\n",
       "    }\n",
       "\n",
       "    .dataframe tbody tr th {\n",
       "        vertical-align: top;\n",
       "    }\n",
       "</style>\n",
       "<table border=\"1\" class=\"dataframe\">\n",
       "  <thead>\n",
       "    <tr style=\"text-align: right;\">\n",
       "      <th></th>\n",
       "      <th>cuisine</th>\n",
       "      <th>id</th>\n",
       "      <th>ingredients</th>\n",
       "    </tr>\n",
       "  </thead>\n",
       "  <tbody>\n",
       "    <tr>\n",
       "      <th>0</th>\n",
       "      <td>greek</td>\n",
       "      <td>10259</td>\n",
       "      <td>[romaine lettuce, black olives, grape tomatoes...</td>\n",
       "    </tr>\n",
       "    <tr>\n",
       "      <th>1</th>\n",
       "      <td>southern_us</td>\n",
       "      <td>25693</td>\n",
       "      <td>[plain flour, ground pepper, salt, tomatoes, g...</td>\n",
       "    </tr>\n",
       "    <tr>\n",
       "      <th>2</th>\n",
       "      <td>filipino</td>\n",
       "      <td>20130</td>\n",
       "      <td>[eggs, pepper, salt, mayonaise, cooking oil, g...</td>\n",
       "    </tr>\n",
       "    <tr>\n",
       "      <th>3</th>\n",
       "      <td>indian</td>\n",
       "      <td>22213</td>\n",
       "      <td>[water, vegetable oil, wheat, salt]</td>\n",
       "    </tr>\n",
       "    <tr>\n",
       "      <th>4</th>\n",
       "      <td>indian</td>\n",
       "      <td>13162</td>\n",
       "      <td>[black pepper, shallots, cornflour, cayenne pe...</td>\n",
       "    </tr>\n",
       "  </tbody>\n",
       "</table>\n",
       "</div>"
      ],
      "text/plain": [
       "<div>\n",
       "<style>\n",
       "    .dataframe thead tr:only-child th {\n",
       "        text-align: right;\n",
       "    }\n",
       "\n",
       "    .dataframe thead th {\n",
       "        text-align: left;\n",
       "    }\n",
       "\n",
       "    .dataframe tbody tr th {\n",
       "        vertical-align: top;\n",
       "    }\n",
       "</style>\n",
       "<table border=\"1\" class=\"dataframe\">\n",
       "  <thead>\n",
       "    <tr style=\"text-align: right;\">\n",
       "      <th></th>\n",
       "      <th>cuisine</th>\n",
       "      <th>id</th>\n",
       "      <th>ingredients</th>\n",
       "    </tr>\n",
       "  </thead>\n",
       "  <tbody>\n",
       "    <tr>\n",
       "      <th>0</th>\n",
       "      <td>greek</td>\n",
       "      <td>10259</td>\n",
       "      <td>[romaine lettuce, black olives, grape tomatoes...</td>\n",
       "    </tr>\n",
       "    <tr>\n",
       "      <th>1</th>\n",
       "      <td>southern_us</td>\n",
       "      <td>25693</td>\n",
       "      <td>[plain flour, ground pepper, salt, tomatoes, g...</td>\n",
       "    </tr>\n",
       "    <tr>\n",
       "      <th>2</th>\n",
       "      <td>filipino</td>\n",
       "      <td>20130</td>\n",
       "      <td>[eggs, pepper, salt, mayonaise, cooking oil, g...</td>\n",
       "    </tr>\n",
       "    <tr>\n",
       "      <th>3</th>\n",
       "      <td>indian</td>\n",
       "      <td>22213</td>\n",
       "      <td>[water, vegetable oil, wheat, salt]</td>\n",
       "    </tr>\n",
       "    <tr>\n",
       "      <th>4</th>\n",
       "      <td>indian</td>\n",
       "      <td>13162</td>\n",
       "      <td>[black pepper, shallots, cornflour, cayenne pe...</td>\n",
       "    </tr>\n",
       "  </tbody>\n",
       "</table>\n",
       "</div>"
      ]
     },
     "execution_count": 263,
     "metadata": {},
     "output_type": "execute_result"
    }
   ],
   "source": [
    "train_df.head()"
   ]
  },
  {
   "cell_type": "code",
   "execution_count": 264,
   "metadata": {},
   "outputs": [
    {
     "data": {
      "text/html": [
       "<div>\n",
       "<style>\n",
       "    .dataframe thead tr:only-child th {\n",
       "        text-align: right;\n",
       "    }\n",
       "\n",
       "    .dataframe thead th {\n",
       "        text-align: left;\n",
       "    }\n",
       "\n",
       "    .dataframe tbody tr th {\n",
       "        vertical-align: top;\n",
       "    }\n",
       "</style>\n",
       "<table border=\"1\" class=\"dataframe\">\n",
       "  <thead>\n",
       "    <tr style=\"text-align: right;\">\n",
       "      <th></th>\n",
       "      <th>id</th>\n",
       "      <th>ingredients</th>\n",
       "    </tr>\n",
       "  </thead>\n",
       "  <tbody>\n",
       "    <tr>\n",
       "      <th>0</th>\n",
       "      <td>18009</td>\n",
       "      <td>[baking powder, eggs, all-purpose flour, raisi...</td>\n",
       "    </tr>\n",
       "    <tr>\n",
       "      <th>1</th>\n",
       "      <td>28583</td>\n",
       "      <td>[sugar, egg yolks, corn starch, cream of tarta...</td>\n",
       "    </tr>\n",
       "    <tr>\n",
       "      <th>2</th>\n",
       "      <td>41580</td>\n",
       "      <td>[sausage links, fennel bulb, fronds, olive oil...</td>\n",
       "    </tr>\n",
       "    <tr>\n",
       "      <th>3</th>\n",
       "      <td>29752</td>\n",
       "      <td>[meat cuts, file powder, smoked sausage, okra,...</td>\n",
       "    </tr>\n",
       "    <tr>\n",
       "      <th>4</th>\n",
       "      <td>35687</td>\n",
       "      <td>[ground black pepper, salt, sausage casings, l...</td>\n",
       "    </tr>\n",
       "  </tbody>\n",
       "</table>\n",
       "</div>"
      ],
      "text/plain": [
       "<div>\n",
       "<style>\n",
       "    .dataframe thead tr:only-child th {\n",
       "        text-align: right;\n",
       "    }\n",
       "\n",
       "    .dataframe thead th {\n",
       "        text-align: left;\n",
       "    }\n",
       "\n",
       "    .dataframe tbody tr th {\n",
       "        vertical-align: top;\n",
       "    }\n",
       "</style>\n",
       "<table border=\"1\" class=\"dataframe\">\n",
       "  <thead>\n",
       "    <tr style=\"text-align: right;\">\n",
       "      <th></th>\n",
       "      <th>id</th>\n",
       "      <th>ingredients</th>\n",
       "    </tr>\n",
       "  </thead>\n",
       "  <tbody>\n",
       "    <tr>\n",
       "      <th>0</th>\n",
       "      <td>18009</td>\n",
       "      <td>[baking powder, eggs, all-purpose flour, raisi...</td>\n",
       "    </tr>\n",
       "    <tr>\n",
       "      <th>1</th>\n",
       "      <td>28583</td>\n",
       "      <td>[sugar, egg yolks, corn starch, cream of tarta...</td>\n",
       "    </tr>\n",
       "    <tr>\n",
       "      <th>2</th>\n",
       "      <td>41580</td>\n",
       "      <td>[sausage links, fennel bulb, fronds, olive oil...</td>\n",
       "    </tr>\n",
       "    <tr>\n",
       "      <th>3</th>\n",
       "      <td>29752</td>\n",
       "      <td>[meat cuts, file powder, smoked sausage, okra,...</td>\n",
       "    </tr>\n",
       "    <tr>\n",
       "      <th>4</th>\n",
       "      <td>35687</td>\n",
       "      <td>[ground black pepper, salt, sausage casings, l...</td>\n",
       "    </tr>\n",
       "  </tbody>\n",
       "</table>\n",
       "</div>"
      ]
     },
     "execution_count": 264,
     "metadata": {},
     "output_type": "execute_result"
    }
   ],
   "source": [
    "test_df.head()"
   ]
  },
  {
   "cell_type": "markdown",
   "metadata": {},
   "source": [
    "There are 3 columns in the training set and 2 columns in the test set. Each sample in training set consists of **id**, **cuisine** and **ingredients** features. \n",
    "+ **id**:  unique identifier of recipe\n",
    "+ **cuisine**:  label of recipe\n",
    "+ **ingredients**:  list of all ingredients      \n",
    "\n",
    "Samples in test set do not have **cuisine** column and our task is to build a classifier, using labelled samples in training set, to predict the labels of samples in the test set."
   ]
  },
  {
   "cell_type": "code",
   "execution_count": 265,
   "metadata": {},
   "outputs": [
    {
     "name": "stdout",
     "output_type": "stream",
     "text": [
      "<class 'pandas.core.frame.DataFrame'>\nRangeIndex: 39774 entries, 0 to 39773\nData columns (total 3 columns):\ncuisine        39774 non-null object\nid             39774 non-null int64\ningredients    39774 non-null object\ndtypes: int64(1), object(2)\nmemory usage: 932.3+ KB\n"
     ]
    }
   ],
   "source": [
    "train_df.info()"
   ]
  },
  {
   "cell_type": "markdown",
   "metadata": {},
   "source": [
    "We use info() function in Pandas to get each attributes' type and count. From upper block's result we know that there is no missing value in our dataset."
   ]
  },
  {
   "cell_type": "code",
   "execution_count": 266,
   "metadata": {},
   "outputs": [
    {
     "data": {
      "text/plain": [
       "6714"
      ]
     },
     "execution_count": 266,
     "metadata": {},
     "output_type": "execute_result"
    }
   ],
   "source": [
    "ingredients_counter = Counter()\n",
    "for ingredients in train_df['ingredients']:\n",
    "    ingredients_counter.update(ingredients)\n",
    "len(ingredients_counter)"
   ]
  },
  {
   "cell_type": "markdown",
   "metadata": {},
   "source": [
    "The first idea is to count how many ingredients are there in the training set. We use **Counter** in the collections package to do that. Now we know there are 6,714 ingredients occurred in the training set.    \n",
    "Maybe some ingredients seldomly occurred in the training set. We want to know the distribution of ingredients."
   ]
  },
  {
   "cell_type": "code",
   "execution_count": 267,
   "metadata": {},
   "outputs": [
    {
     "data": {
      "text/plain": [
       "array([  1.00000000e+00,   1.00000000e+00,   2.00000000e+00,\n         3.00000000e+00,   4.00000000e+00,   7.00000000e+00,\n         1.40000000e+01,   3.00000000e+01,   9.30000000e+01,\n         1.80490000e+04])"
      ]
     },
     "execution_count": 267,
     "metadata": {},
     "output_type": "execute_result"
    }
   ],
   "source": [
    "ingredients_occurence = np.fromiter(iter(ingredients_counter.values()), int)\n",
    "ingredients_occurence = np.sort(ingredients_occurence)\n",
    "np.percentile(ingredients_occurence, list(range(10, 110, 10)))\n"
   ]
  },
  {
   "cell_type": "markdown",
   "metadata": {},
   "source": [
    "Now we know that there are approximately **50%** ingredients occurred less than 4 times in the training set. Because they are so rare, so these ingredients will not generalize well in new data. Therfore, we just discard these ingredients."
   ]
  },
  {
   "cell_type": "code",
   "execution_count": 268,
   "metadata": {},
   "outputs": [
    {
     "data": {
      "text/plain": [
       "3675"
      ]
     },
     "execution_count": 268,
     "metadata": {},
     "output_type": "execute_result"
    }
   ],
   "source": [
    "simplified_ingreidents_counter = Counter({k: v for k, v in ingredients_counter.items() if v >= 4})\n",
    "len(simplified_ingreidents_counter)"
   ]
  },
  {
   "cell_type": "markdown",
   "metadata": {},
   "source": []
  },
  {
   "cell_type": "code",
   "execution_count": null,
   "metadata": {},
   "outputs": [],
   "source": [
    "ingredients_list = list(ingredients_counter.keys())\n",
    "ingredients_list.sort(key=lambda x: len(x), reverse=True)\n",
    "display(ingredients_list)"
   ]
  },
  {
   "cell_type": "code",
   "execution_count": 269,
   "metadata": {
    "collapsed": true
   },
   "outputs": [
    {
     "data": {
      "text/plain": [
       "{'romaine lettuce': 'romaine_lettuce',\n 'black olives': 'black_olive',\n 'grape tomatoes': 'grape_tomato',\n 'garlic': 'garlic',\n 'pepper': 'pepper',\n 'purple onion': 'purple_onion',\n 'seasoning': 'seasoning',\n 'garbanzo beans': 'garbanzo_bean',\n 'feta cheese crumbles': 'feta_cheese_crumbles',\n 'plain flour': 'plain_flour',\n 'ground pepper': 'ground_pepper',\n 'salt': 'salt',\n 'tomatoes': 'tomato',\n 'ground black pepper': 'ground_black_pepper',\n 'thyme': 'thyme',\n 'eggs': 'egg',\n 'green tomatoes': 'green_tomato',\n 'yellow corn meal': 'yellow_corn_meal',\n 'milk': 'milk',\n 'vegetable oil': 'vegetable_oil',\n 'mayonaise': 'mayonaise',\n 'cooking oil': 'cooking_oil',\n 'green chilies': 'green_chilies',\n 'grilled chicken breasts': 'grilled_chicken_breast',\n 'garlic powder': 'garlic_powder',\n 'yellow onion': 'yellow_onion',\n 'soy sauce': 'soy_sauce',\n 'butter': 'butter',\n 'chicken livers': 'chicken_liver',\n 'water': 'water',\n 'wheat': 'wheat',\n 'black pepper': 'black_pepper',\n 'shallots': 'shallot',\n 'cornflour': 'cornflour',\n 'cayenne pepper': 'cayenne_pepper',\n 'onions': 'onion',\n 'garlic paste': 'garlic_paste',\n 'lemon juice': 'lemon_juice',\n 'chili powder': 'chili_powder',\n 'passata': 'passata',\n 'oil': 'oil',\n 'ground cumin': 'ground_cumin',\n 'boneless chicken skinless thigh': 'boneless_chicken_skinless_thigh',\n 'garam masala': 'garam_masala',\n 'double cream': 'double_cream',\n 'natural yogurt': 'natural_yogurt',\n 'bay leaf': 'bay_leaf',\n 'sugar': 'sugar',\n 'fresh ginger root': 'fresh_ginger_root',\n 'ground cinnamon': 'ground_cinnamon',\n 'vanilla extract': 'vanilla_extract',\n 'ground ginger': 'ground_ginger',\n 'powdered sugar': 'powdered_sugar',\n 'baking powder': 'baking_powder',\n 'olive oil': 'olive_oil',\n 'medium shrimp': 'medium_shrimp',\n 'chopped cilantro': 'chopped_cilantro',\n 'jalapeno chilies': 'jalapeno_chilies',\n 'flat leaf parsley': 'flat_leaf_parsley',\n 'skirt steak': 'skirt_steak',\n 'white vinegar': 'white_vinegar',\n 'sea salt': 'sea_salt',\n 'chorizo sausage': 'chorizo_sausage',\n 'pistachio nuts': 'pistachio_nut',\n 'flour': 'flour',\n 'almond extract': 'almond_extract',\n 'dried cranberries': 'dried_cranberry',\n 'fresh pineapple': 'fresh_pineapple',\n 'pork': 'pork',\n 'poblano peppers': 'poblano_pepper',\n 'corn tortillas': 'corn_tortilla',\n 'cheddar cheese': 'cheddar_cheese',\n 'iceberg lettuce': 'iceberg_lettuce',\n 'lime': 'lime',\n 'chopped cilantro fresh': 'chopped_cilantro_fresh',\n 'chopped tomatoes': 'chopped_tomato',\n 'fresh basil': 'fresh_basil',\n 'extra-virgin olive oil': 'extra-virgin_olive_oil',\n 'kosher salt': 'kosher_salt',\n 'pimentos': 'pimento',\n 'sweet pepper': 'sweet_pepper',\n 'dried oregano': 'dried_oregano',\n 'sharp cheddar cheese': 'sharp_cheddar_cheese',\n 'swiss cheese': 'swiss_cheese',\n 'provolone cheese': 'provolone_cheese',\n 'canola oil': 'canola_oil',\n 'mushrooms': 'mushroom',\n 'sausages': 'sausage',\n 'low sodium soy sauce': 'low_sodium_soy_sauce',\n 'fresh ginger': 'fresh_ginger',\n 'dry mustard': 'dry_mustard',\n 'green beans': 'green_bean',\n 'white pepper': 'white_pepper',\n 'sesame oil': 'sesame_oil',\n 'scallions': 'scallion',\n 'Shaoxing wine': 'shaoxing_wine',\n 'ground turkey': 'ground_turkey',\n 'crushed red pepper flakes': 'crushed_red_pepper_flake',\n 'corn starch': 'corn_starch',\n 'Italian parsley leaves': 'italian_parsley_leaf',\n 'walnuts': 'walnut',\n 'hot red pepper flakes': 'hot_red_pepper_flake',\n 'fresh lemon juice': 'fresh_lemon_juice',\n 'trout fillet': 'trout_fillet',\n 'garlic cloves': 'garlic_clove',\n 'chipotle chile': 'chipotle_chile',\n 'fine sea salt': 'fine_sea_salt',\n 'fresh cilantro': 'fresh_cilantro',\n 'ground coriander': 'ground_coriander',\n 'plum tomatoes': 'plum_tomato',\n 'avocado': 'avocado',\n 'lime juice': 'lime_juice',\n 'flank steak': 'flank_steak',\n 'fresh parmesan cheese': 'fresh_parmesan_cheese',\n 'all-purpose flour': 'all-purpose_flour',\n 'fat free less sodium chicken broth': 'fat_free_le_sodium_chicken_broth',\n 'chopped fresh chives': 'chopped_fresh_chive',\n 'gruyere cheese': 'gruyere_cheese',\n 'bacon slices': 'bacon_slice',\n 'gnocchi': 'gnocchi',\n 'fat free milk': 'fat_free_milk',\n 'cooking spray': 'cooking_spray',\n 'tumeric': 'tumeric',\n 'vegetable stock': 'vegetable_stock',\n 'naan': 'naan',\n 'red lentils': 'red_lentil',\n 'red chili peppers': 'red_chili_pepper',\n 'spinach': 'spinach',\n 'sweet potatoes': 'sweet_potato',\n 'greek yogurt': 'greek_yogurt',\n 'lemon curd': 'lemon_curd',\n 'confectioners sugar': 'confectioner_sugar',\n 'raspberries': 'raspberry',\n 'italian seasoning': 'italian_seasoning',\n 'broiler-fryer chicken': 'broiler-fryer_chicken',\n 'zesty italian dressing': 'zesty_italian_dressing',\n 'hot chili': 'hot_chili',\n 'asian fish sauce': 'asian_fish_sauce',\n 'red bell pepper': 'red_bell_pepper',\n 'chicken broth': 'chicken_broth',\n 'yellow squash': 'yellow_squash',\n 'garlic chili sauce': 'garlic_chili_sauce',\n 'sliced green onions': 'sliced_green_onion',\n 'broccolini': 'broccolini',\n 'fresh lime juice': 'fresh_lime_juice',\n 'cooked rice': 'cooked_rice',\n 'chicken breasts': 'chicken_breast',\n 'pork loin': 'pork_loin',\n 'roasted peanuts': 'roasted_peanut',\n 'hoisin sauce': 'hoisin_sauce',\n 'creamy peanut butter': 'creamy_peanut_butter',\n 'chopped fresh mint': 'chopped_fresh_mint',\n 'thai basil': 'thai_basil',\n 'rice': 'rice',\n 'rice noodles': 'rice_noodle',\n 'beansprouts': 'beansprouts',\n 'roma tomatoes': 'rom_tomato',\n 'low-fat mayonnaise': 'low-fat_mayonnaise',\n 'baking potatoes': 'baking_potato',\n 'spicy brown mustard': 'spicy_brown_mustard',\n 'sesame seeds': 'sesame_seed',\n 'red pepper': 'red_pepper',\n 'yellow peppers': 'yellow_pepper',\n 'extra firm tofu': 'extra_firm_tofu',\n 'broccoli': 'broccoli',\n 'orange bell pepper': 'orange_bell_pepper',\n 'arrowroot powder': 'arrowroot_powder',\n 'red curry paste': 'red_curry_paste',\n 'marinara sauce': 'marinara_sauce',\n 'linguine': 'linguine',\n 'capers': 'caper',\n 'olives': 'olive',\n 'lemon zest': 'lemon_zest',\n 'lo mein noodles': 'lo_mein_noodle',\n 'light soy sauce': 'light_soy_sauce',\n 'dried black mushrooms': 'dried_black_mushroom',\n 'chives': 'chive',\n 'oyster sauce': 'oyster_sauce',\n 'dark soy sauce': 'dark_soy_sauce',\n 'peanuts': 'peanut',\n 'cabbage': 'cabbage',\n 'herbs': 'herb',\n 'fresh tomatoes': 'fresh_tomato',\n 'paprika': 'paprika',\n 'mango': 'mango',\n 'stock': 'stock',\n 'chile pepper': 'chile_pepper',\n 'sliced mushrooms': 'sliced_mushroom',\n 'sherry': 'sherry',\n 'grated parmesan cheese': 'grated_parmesan_cheese',\n 'heavy cream': 'heavy_cream',\n 'spaghetti': 'spaghetti',\n 'cooked chicken': 'cooked_chicken',\n 'green bell pepper': 'green_bell_pepper',\n 'egg roll wrappers': 'egg_roll_wrapper',\n 'sweet and sour sauce': 'sweet_sour_sauce',\n 'molasses': 'molasses',\n 'shredded cabbage': 'shredded_cabbage',\n 'ground pork': 'ground_pork',\n 'carrots': 'carrot',\n 'flour tortillas': 'flour_tortilla',\n 'cheese': 'cheese',\n 'breakfast sausages': 'breakfast_sausage',\n 'large eggs': 'large_egg',\n 'boiling water': 'boiling_water',\n 'hot sauce': 'hot_sauce',\n 'potatoes': 'potato',\n 'bacon': 'bacon',\n 'fresh parsley': 'fresh_parsley',\n 'andouille sausage': 'andouille_sausage',\n 'cajun seasoning': 'cajun_seasoning',\n 'peanut oil': 'peanut_oil',\n 'celery': 'celery',\n 'ground red pepper': 'ground_red_pepper',\n 'shrimp': 'shrimp',\n 'onion powder': 'onion_powder',\n 'firm tofu': 'firm_tofu',\n 'turnips': 'turnip',\n 'palm sugar': 'palm_sugar',\n 'sliced chicken': 'sliced_chicken',\n 'fish sauce': 'fish_sauce',\n 'lime wedges': 'lime_wedge',\n 'green papaya': 'green_papaya',\n 'chile powder': 'chile_powder',\n 'tamarind paste': 'tamarind_paste',\n 'chinese chives': 'chinese_chive',\n 'crushed garlic': 'crushed_garlic',\n 'green onions': 'green_onion',\n 'white sugar': 'white_sugar',\n 'dried basil': 'dried_basil',\n 'diced tomatoes': 'diced_tomato',\n 'parsley': 'parsley',\n 'worcestershire sauce': 'worcestershire_sauce',\n 'hot pepper sauce': 'hot_pepper_sauce',\n 'creole seasoning': 'creole_seasoning',\n 'bread slices': 'bread_slice',\n 'great northern beans': 'great_northern_bean',\n 'sage leaves': 'sage_leaf',\n 'chinese five-spice powder': 'chinese_five-spice_powder',\n 'chicken thighs': 'chicken_thigh',\n 'star anise': 'star_anise',\n 'cream cheese': 'cream_cheese',\n 'shredded cheddar cheese': 'shredded_cheddar_cheese',\n 'black-eyed peas': 'black-eyed_pea',\n 'tortilla chips': 'tortilla_chip',\n 'collard greens': 'collard_green',\n 'ham hock': 'ham_hock',\n 'chicken stock': 'chicken_stock',\n 'apple cider': 'apple_cider',\n 'freshly ground pepper': 'freshly_ground_pepper',\n 'bay leaves': 'bay_leaf',\n 'rib': 'rib',\n 'light brown sugar': 'light_brown_sugar',\n 'large garlic cloves': 'large_garlic_clove',\n 'hoagie rolls': 'hoagie_roll',\n 'salami': 'salami',\n 'giardiniera': 'giardiniera',\n 'mozzarella cheese': 'mozzarella_cheese',\n 'pepperoni': 'pepperoni',\n 'ice cubes': 'ice_cube',\n 'club soda': 'club_soda',\n 'white rum': 'white_rum',\n 'turbinado': 'turbinado',\n 'enchilada sauce': 'enchilada_sauce',\n 'picante sauce': 'picante_sauce',\n 'green pepper': 'green_pepper',\n 'canned black beans': 'canned_black_bean',\n 'shredded lettuce': 'shredded_lettuce',\n 'sour cream': 'sour_cream',\n 'salmon fillets': 'salmon_fillet',\n 'cumin seed': 'cumin_seed',\n 'curry powder': 'curry_powder',\n 'serrano chile': 'serrano_chile',\n 'sauce': 'sauce',\n 'chicken breast halves': 'chicken_breast_half',\n 'lettuce leaves': 'lettuce_leaf',\n 'chopped onion': 'chopped_onion',\n 'mandarin oranges': 'mandarin_orange',\n 'orange liqueur': 'orange_liqueur',\n 'yellow cake mix': 'yellow_cake_mix',\n 'frosting': 'frosting',\n 'fennel bulb': 'fennel_bulb',\n 'grapefruit juice': 'grapefruit_juice',\n 'white cornmeal': 'white_cornmeal',\n 'bacon drippings': 'bacon_dripping',\n 'buttermilk': 'buttermilk',\n 'crab boil': 'crab_boil',\n 'old bay seasoning': 'old_bay_seasoning',\n 'crawfish': 'crawfish',\n 'sirloin': 'sirloin',\n 'mirin': 'mirin',\n 'corn oil': 'corn_oil',\n 'glass noodles': 'glass_noodle',\n 'sake': 'sake',\n 'shiitake': 'shiitake',\n 'napa cabbage': 'napa_cabbage',\n 'whipping cream': 'whipping_cream',\n 'extra sharp cheddar cheese': 'extra_sharp_cheddar_cheese',\n 'quickcooking grits': 'quickcooking_grit',\n 'monterey jack': 'monterey_jack',\n 'crushed red pepper': 'crushed_red_pepper',\n 'mussels': 'mussel',\n 'basil': 'basil',\n 'dry white wine': 'dry_white_wine',\n 'finely chopped onion': 'finely_chopped_onion',\n 'baking soda': 'baking_soda',\n 'honey': 'honey',\n 'unsalted butter': 'unsalted_butter',\n 'lemon': 'lemon',\n 'pesto': 'pesto',\n 'white wine': 'white_wine',\n 'bread crumbs': 'bread_crumb',\n 'curry': 'curry',\n 'low sodium beef broth': 'low_sodium_beef_broth',\n 'pickapeppa sauce': 'pickapeppa_sauce',\n 'cold water': 'cold_water',\n 'allspice': 'allspice',\n 'fresh thyme': 'fresh_thyme',\n 'ground beef': 'ground_beef',\n 'melted butter': 'melted_butter',\n 'matcha green tea powder': 'matcha_green_tea_powder',\n 'chopped walnuts': 'chopped_walnut',\n 'coarse salt': 'coarse_salt',\n 'fenugreek': 'fenugreek',\n 'urad dal': 'urad_dal',\n 'white rice': 'white_rice',\n 'pizza crust': 'pizza_crust',\n 'part-skim mozzarella cheese': 'part-skim_mozzarella_cheese',\n 'yukon gold potatoes': 'yukon_gold_potato',\n 'low-fat sour cream': 'low-fat_sour_cream',\n 'leeks': 'leek',\n '1% low-fat milk': 'low-fat_milk',\n 'lemongrass': 'lemongrass',\n 'unsweetened coconut milk': 'unsweetened_coconut_milk',\n 'peanut sauce': 'peanut_sauce',\n 'spareribs': 'sparerib',\n 'tamari soy sauce': 'tamari_soy_sauce',\n 'golden brown sugar': 'golden_brown_sugar',\n 'dry sherry': 'dry_sherry',\n 'chicken legs': 'chicken_leg',\n 'ghee': 'ghee',\n 'tomato paste': 'tomato_paste',\n 'ground turmeric': 'ground_turmeric',\n 'cracked black pepper': 'cracked_black_pepper',\n 'minced beef': 'minced_beef',\n 'dried thyme': 'dried_thyme',\n 'ginger': 'ginger',\n 'chillies': 'chilli',\n 'crushed tomatoes': 'crushed_tomato',\n 'fresh rosemary': 'fresh_rosemary',\n 'boneless pork loin': 'boneless_pork_loin',\n 'pappardelle': 'pappardelle',\n 'coconut milk': 'coconut_milk',\n 'eggplant': 'eggplant',\n 'jasmine rice': 'jasmine_rice',\n 'Gochujang base': 'gochujang_base',\n 'top round steak': 'top_round_steak',\n 'rice vinegar': 'rice_vinegar',\n 'vanilla': 'vanilla',\n 'large egg yolks': 'large_egg_yolk',\n 'orange juice concentrate': 'orange_juice_concentrate',\n 'pumpkin purée': 'pumpkin_puree',\n 'marshmallow creme': 'marshmallow_creme',\n 'toasted pecans': 'toasted_pecan',\n 'maple syrup': 'maple_syrup',\n 'gingersnap': 'gingersnap',\n 'ground nutmeg': 'ground_nutmeg',\n 'brown sugar': 'brown_sugar',\n 'serrano ham': 'serrano_ham',\n 'manchego cheese': 'manchego_cheese',\n 'dijon mustard': 'dijon_mustard',\n 'sourdough': 'sourdough',\n 'burger buns': 'burger_bun',\n 'panko breadcrumbs': 'panko_breadcrumb',\n 'chickpea flour': 'chickpea_flour',\n 'Sriracha': 'sriracha',\n 'chickpeas': 'chickpea',\n 'ground flaxseed': 'ground_flaxseed',\n 'greens': 'green',\n 'tahini': 'tahini',\n 'ground cloves': 'ground_clove',\n 'whole nutmegs': 'whole_nutmeg',\n 'ground cardamom': 'ground_cardamom',\n 'Italian bread': 'italian_bread',\n 'balsamic vinegar': 'balsamic_vinegar',\n 'sausage casings': 'sausage_casing',\n 'shredded mozzarella cheese': 'shredded_mozzarella_cheese',\n 'roasted red peppers': 'roasted_red_pepper',\n 'penne pasta': 'penne_pasta',\n 'saffron': 'saffron',\n 'warm water': 'warm_water',\n 'preserved lemon': 'preserved_lemon',\n 'harissa': 'harissa',\n 'couscous': 'couscous',\n 'cayenne': 'cayenne',\n 'fat skimmed chicken broth': 'fat_skimmed_chicken_broth',\n 'pitted kalamata olives': 'pitted_kalamata_olive',\n 'fat': 'fat',\n 'sweetened condensed milk': 'sweetened_condensed_milk',\n 'ice': 'ice',\n 'espresso': 'espresso',\n 'fresh asparagus': 'fresh_asparagus',\n 'pecans': 'pecan',\n 'crumbled blue cheese': 'crumbled_blue_cheese',\n 'chuck': 'chuck',\n 'hamburger buns': 'hamburger_bun',\n 'okra pods': 'okra_pod',\n 'watercress': 'watercress',\n 'self rising flour': 'self_rising_flour',\n 'softened butter': 'softened_butter',\n 'food colouring': 'food_colouring',\n 'Madeira': 'madeira',\n 'foie gras': 'foie_gras',\n 'demi-glace': 'demi-glace',\n 'sherry vinegar': 'sherry_vinegar',\n 'white bread': 'white_bread',\n 'egg bread': 'egg_bread',\n 'fenugreek leaves': 'fenugreek_leaf',\n 'black mustard seeds': 'black_mustard_seed',\n 'amchur': 'amchur',\n 'coriander': 'coriander',\n 'fingerling potatoes': 'fingerling_potato',\n 'ramps': 'ramp',\n 'black peppercorns': 'black_peppercorn',\n 'cinnamon sticks': 'cinnamon_stick',\n 'cardamom pods': 'cardamom_pod',\n 'coriander seeds': 'coriander_seed',\n 'asiago': 'asiago',\n 'whole wheat pasta': 'whole_wheat_pasta',\n 'sweet onion': 'sweet_onion',\n 'chestnuts': 'chestnut',\n 'granulated sugar': 'granulated_sugar',\n 'whole milk ricotta cheese': 'whole_milk_ricotta_cheese',\n 'coffee ice cream': 'coffee_ice_cream',\n 'mascarpone': 'mascarpone',\n 'rum': 'rum',\n 'semisweet chocolate': 'semisweet_chocolate',\n 'baby spinach leaves': 'baby_spinach_leaf',\n 'chopped garlic': 'chopped_garlic',\n 'large shrimp': 'large_shrimp',\n 'barley': 'barley',\n 'cooked ham': 'cooked_ham',\n 'starchy potatoes': 'starchy_potato',\n 'grated nutmeg': 'grated_nutmeg',\n 'sirloin tip roast': 'sirloin_tip_roast',\n 'steak': 'steak',\n 'vegetable shortening': 'vegetable_shortening',\n 'finely chopped fresh parsley': 'finely_chopped_fresh_parsley',\n 'vinegar': 'vinegar',\n 'whole milk': 'whole_milk',\n 'heavy whipping cream': 'heavy_whipping_cream',\n 'kahlúa': 'kahlua',\n 'instant espresso powder': 'instant_espresso_powder',\n 'epazote': 'epazote',\n 'radishes': 'radish',\n 'oregano': 'oregano',\n 'white onion': 'white_onion',\n 'hominy': 'hominy',\n 'tomatillos': 'tomatillo',\n 'pepitas': 'pepitas',\n 'catfish fillets': 'catfish_fillet',\n 'basmati rice': 'basmati_rice',\n 'cauliflower': 'cauliflower',\n 'cumin': 'cumin',\n 'blood orange': 'blood_orange',\n 'low salt chicken broth': 'low_salt_chicken_broth',\n 'white wine vinegar': 'white_wine_vinegar',\n 'tomato sauce': 'tomato_sauce',\n 'shredded carrots': 'shredded_carrot',\n 'vegetable oil cooking spray': 'vegetable_oil_cooking_spray',\n 'chopped green bell pepper': 'chopped_green_bell_pepper',\n 'prawns': 'prawn',\n 'rice flour': 'rice_flour',\n 'seasoning salt': 'seasoning_salt',\n 'lasagna noodles': 'lasagna_noodle',\n 'ranch dressing': 'ranch_dressing',\n 'evaporated milk': 'evaporated_milk',\n 'minced garlic': 'minced_garlic',\n 'red wine vinegar': 'red_wine_vinegar',\n 'boneless chop pork': 'boneless_chop_pork',\n 'chile paste': 'chile_paste',\n 'lower sodium soy sauce': 'lower_sodium_soy_sauce',\n 'dark sesame oil': 'dark_sesame_oil',\n 'raisins': 'raisin',\n 'pearl barley': 'pearl_barley',\n 'slivered almonds': 'slivered_almond',\n 'chocolate bars': 'chocolate_bar',\n 'marshmallows': 'marshmallow',\n 'chopped celery': 'chopped_celery',\n 'mustard powder': 'mustard_powder',\n 'cod': 'cod',\n 'minced onion': 'minced_onion',\n 'dry bread crumbs': 'dry_bread_crumb',\n 'golden raisins': 'golden_raisin',\n 'margarine': 'margarine',\n 'mace': 'mace',\n 'candied orange peel': 'candied_orange_peel',\n 'grated lemon zest': 'grated_lemon_zest',\n 'dried currants': 'dried_currant',\n 'dark brown sugar': 'dark_brown_sugar',\n 'noodles': 'noodle',\n 'baby bok choy': 'baby_bok_choy',\n 'black bean sauce': 'black_bean_sauce',\n 'red potato': 'red_potato',\n 'chinese rice wine': 'chinese_rice_wine',\n 'black beans': 'black_bean',\n 'quinoa': 'quinoa',\n 'frozen corn': 'frozen_corn',\n 'vegetable broth': 'vegetable_broth',\n 'yellow bell pepper': 'yellow_bell_pepper',\n 'orange': 'orange',\n 'duck': 'duck',\n 'dried mint flakes': 'dried_mint_flake',\n 'penne rigate': 'penne_rigate',\n 'feta cheese': 'feta_cheese',\n 'ras el hanout': 'ra_el_hanout',\n 'ground lamb': 'ground_lamb',\n 'large egg whites': 'large_egg_white',\n '2% reduced-fat milk': 'reduced-fat_milk',\n 'napa cabbage leaves': 'napa_cabbage_leaf',\n 'chicken leg quarters': 'chicken_leg_quarter',\n 'cucumber': 'cucumber',\n 'long-grain rice': 'long-grain_rice',\n 'crusty bread': 'crusty_bread',\n 'baby potatoes': 'baby_potato',\n 'smoked streaky bacon': 'smoked_streaky_bacon',\n 'piloncillo': 'piloncillo',\n 'ground allspice': 'ground_allspice',\n 'fresh oregano': 'fresh_oregano',\n 'chocolate morsels': 'chocolate_morsel',\n 'cream sweeten whip': 'cream_sweeten_whip',\n 'instant espresso granules': 'instant_espresso_granule',\n 'unflavored gelatin': 'unflavored_gelatin',\n 'pound cake': 'pound_cake',\n 'pinenuts': 'pinenuts',\n 'zucchini': 'zucchini',\n 'baby carrots': 'baby_carrot',\n 'fresh basil leaves': 'fresh_basil_leaf',\n 'asparagus spears': 'asparagus_spear',\n 'frozen peas': 'frozen_pea',\n 'arborio rice': 'arborio_rice',\n 'yellow crookneck squash': 'yellow_crookneck_squash',\n 'chipotles in adobo': 'chipotle_in_adobo',\n 'instant white rice': 'instant_white_rice',\n 'cilantro leaves': 'cilantro_leaf',\n 'red beans': 'red_bean',\n 'skinless chicken thighs': 'skinless_chicken_thigh',\n 'lime zest': 'lime_zest',\n 'condensed cream of mushroom soup': 'condensed_cream_of_mushroom_soup',\n 'condensed cream of chicken soup': 'condensed_cream_of_chicken_soup',\n 'lean ground beef': 'lean_ground_beef',\n 'Mexican cheese blend': 'mexican_cheese_blend',\n 'chunky salsa': 'chunky_salsa',\n 'taco seasoning mix': 'taco_seasoning_mix',\n 'pineapple juice': 'pineapple_juice',\n 'dark rum': 'dark_rum',\n 'daikon': 'daikon',\n 'pork ribs': 'pork_rib',\n 'goji berries': 'goji_berry',\n 'oysters': 'oyster',\n 'salsa': 'salsa',\n 'demerara sugar': 'demerara_sugar',\n 'egg whites': 'egg_white',\n 'fruit': 'fruit',\n 'frozen pastry puff sheets': 'frozen_pastry_puff_sheet',\n 'mixed spice': 'mixed_spice',\n 'parsnips': 'parsnip',\n 'chili oil': 'chili_oil',\n 'brown mustard seeds': 'brown_mustard_seed',\n 'unsalted cashews': 'unsalted_cashew',\n 'thai green curry paste': 'thai_green_curry_paste',\n 'kecap manis': 'kecap_manis',\n 'basil leaves': 'basil_leaf',\n 'chili flakes': 'chili_flake',\n 'chicken tenderloin': 'chicken_tenderloin',\n 'creole style seasoning': 'creole_style_seasoning',\n 'condensed cheddar cheese soup': 'condensed_cheddar_cheese_soup',\n 'refried beans': 'refried_bean',\n 'grated jack cheese': 'grated_jack_cheese',\n 'egg yolks': 'egg_yolk',\n 'asparagus': 'asparagus',\n 'fresh leav spinach': 'fresh_leav_spinach',\n 'cheese tortellini': 'cheese_tortellini',\n 'cherry tomatoes': 'cherry_tomato',\n 'navy beans': 'navy_bean',\n 'nonfat milk': 'nonfat_milk',\n 'granny smith apples': 'granny_smith_apple',\n 'lard': 'lard',\n 'pecorino romano cheese': 'pecorino_romano_cheese',\n 'fresh fava bean': 'fresh_fava_bean',\n 'italian sausage': 'italian_sausage',\n 'pasta sheets': 'pasta_sheet',\n 'spinach leaves': 'spinach_leaf',\n 'low-fat natural yogurt': 'low-fat_natural_yogurt',\n 'Flora Cuisine': 'flora_cuisine',\n 'curry paste': 'curry_paste',\n 'bone-in chicken breasts': 'bone-in_chicken_breast',\n 'white hominy': 'white_hominy',\n 'dried chile peppers': 'dried_chile_pepper',\n 'frozen whipped topping': 'frozen_whipped_topping',\n 'chocolate instant pudding': 'chocolate_instant_pudding',\n 'graham cracker crumbs': 'graham_cracker_crumb',\n 'fennel seeds': 'fennel_seed',\n 'kalamata': 'kalamata',\n 'kielbasa': 'kielbasa',\n 'celery ribs': 'celery_rib',\n 'ham': 'ham',\n 'moong dal': 'moong_dal',\n 'capsicum': 'capsicum',\n 'green mango': 'green_mango',\n 'toasted sesame oil': 'toasted_sesame_oil',\n 'tofu': 'tofu',\n 'short-grain rice': 'short-grain_rice',\n 'dried shiitake mushrooms': 'dried_shiitake_mushroom',\n 'gari': 'gari',\n 'Turkish bay leaves': 'turkish_bay_leaf',\n 'dried chickpeas': 'dried_chickpea',\n 'semolina': 'semolina',\n 'vine ripened tomatoes': 'vine_ripened_tomato',\n 'bittersweet chocolate': 'bittersweet_chocolate',\n 'fat free yogurt': 'fat_free_yogurt',\n 'skim milk': 'skim_milk',\n 'angel food cake': 'angel_food_cake',\n 'unsweetened cocoa powder': 'unsweetened_cocoa_powder',\n 'instant espresso': 'instant_espresso',\n 'organic chicken': 'organic_chicken',\n 'anise': 'anise',\n 'zinfandel': 'zinfandel',\n 'orange blossom honey': 'orange_blossom_honey',\n 'calimyrna figs': 'calimyrna_fig',\n 'clove': 'clove',\n 'plain whole-milk yogurt': 'plain_whole-milk_yogurt',\n 'reduced sodium soy sauce': 'reduced_sodium_soy_sauce',\n 'beef stock': 'beef_stock',\n 'chuck roast': 'chuck_roast',\n 'Corn Flakes Cereal': 'corn_flake_cereal',\n 'coleslaw': 'coleslaw',\n 'garlic salt': 'garlic_salt',\n 'chili paste': 'chili_paste',\n 'red pepper flakes': 'red_pepper_flake',\n 'kiwi': 'kiwi',\n 'asian pear': 'asian_pear',\n 'chees fresco queso': 'chees_fresco_queso',\n 'swiss chard': 'swiss_chard',\n 'veal cutlets': 'veal_cutlet',\n 'pasta': 'pasta',\n 'wakame': 'wakame',\n 'extra-lean ground beef': 'extra-lean_ground_beef',\n 'scallion greens': 'scallion_green',\n 'wonton wrappers': 'wonton_wrapper',\n 'peeled fresh ginger': 'peeled_fresh_ginger',\n 'nonstick spray': 'nonstick_spray',\n 'chopped fresh thyme': 'chopped_fresh_thyme',\n 'chicken bones': 'chicken_bone',\n 'green bell pepper, slice': 'green_bell_pepper_slice',\n 'anchovy fillets': 'anchovy_fillet',\n 'crusty rolls': 'crusty_roll',\n 'coconut oil': 'coconut_oil',\n 'almond flour': 'almond_flour',\n 'coconut aminos': 'coconut_amino',\n 'green peas': 'green_pea',\n 'clams': 'clam',\n 'boneless skinless chicken breast halves': 'boneless_skinless_chicken_breast_half',\n 'seasoned rice wine vinegar': 'seasoned_rice_wine_vinegar',\n 'snow peas': 'snow_pea',\n 'hard-boiled egg': 'hard-boiled_egg',\n 'artichoke hearts': 'artichoke_heart',\n 'stuffing': 'stuffing',\n 'coriander powder': 'coriander_powder',\n 'maida flour': 'maida_flour',\n 'pita bread rounds': 'pita_bread_round',\n 'grated Gruyère cheese': 'grated_gruyere_cheese',\n 'udon': 'udon',\n 'red miso': 'red_miso',\n 'silken tofu': 'silken_tofu',\n 'button mushrooms': 'button_mushroom',\n 'whole peeled tomatoes': 'whole_peeled_tomato',\n 'shredded Monterey Jack cheese': 'shredded_monterey_jack_cheese',\n 'pickled jalapenos': 'pickled_jalapeno',\n 'broccoli rabe': 'broccoli_rabe',\n 'parmigiano reggiano cheese': 'parmigiano_reggiano_cheese',\n 'fontina': 'fontina',\n 'thai chile': 'thai_chile',\n 'peppercorns': 'peppercorn',\n 'refrigerated piecrusts': 'refrigerated_piecrusts',\n 'cream of chicken soup': 'cream_of_chicken_soup',\n 'frozen peas and carrots': 'frozen_pea_carrot',\n 'low sodium chicken broth': 'low_sodium_chicken_broth',\n 'pasta sauce': 'pasta_sauce',\n 'olive oil flavored cooking spray': 'olive_oil_flavored_cooking_spray',\n 'frozen chopped spinach': 'frozen_chopped_spinach',\n 'part-skim ricotta cheese': 'part-skim_ricotta_cheese',\n 'manicotti shells': 'manicotti_shell',\n 'fettucine': 'fettucine',\n 'parmesan cheese': 'parmesan_cheese',\n 'chicken bouillon': 'chicken_bouillon',\n 'chili paste with garlic': 'chili_paste_garlic',\n 'fresh veget': 'fresh_veget',\n 'taco sauce': 'taco_sauce',\n 'guacamole': 'guacamole',\n 'salsa verde': 'salsa_verde',\n 'condiments': 'condiment',\n 'pork shoulder roast': 'pork_shoulder_roast',\n 'tortillas': 'tortilla',\n 'rose petals': 'rose_petal',\n 'almonds': 'almond',\n 'pistachios': 'pistachio',\n 'chicken wings': 'chicken_wing',\n 'drumstick': 'drumstick',\n 'green chile': 'green_chile',\n 'peeled tomatoes': 'peeled_tomato',\n 'chicken': 'chicken',\n 'chiles': 'chile',\n 'adobo sauce': 'adobo_sauce',\n 'ancho powder': 'ancho_powder',\n 'chipotle chile powder': 'chipotle_chile_powder',\n 'Old El Paso Flour Tortillas': 'old_el_paso_flour_tortilla',\n 'cranberry sauce': 'cranberry_sauce',\n 'beer': 'beer',\n 'chili sauce': 'chili_sauce',\n 'beef rib short': 'beef_rib_short',\n 'miso paste': 'miso_paste',\n 'seaweed': 'seaweed',\n 'dashi': 'dashi',\n 'fresh dill': 'fresh_dill',\n 'yoghurt': 'yoghurt',\n 'phyllo': 'phyllo',\n 'kefalotyri': 'kefalotyri',\n 'okra': 'okra',\n 'cracker crumbs': 'cracker_crumb',\n 'Philadelphia Cream Cheese': 'philadelphia_cream_cheese',\n 'crab meat': 'crab_meat',\n 'savoy cabbage': 'savoy_cabbage',\n 'boneless chicken thighs': 'boneless_chicken_thigh',\n 'potato starch': 'potato_starch',\n 'cream of tartar': 'cream_of_tartar',\n 'semi-sweet chocolate morsels': 'semi-sweet_chocolate_morsel',\n 'cake flour': 'cake_flour',\n 'ricotta cheese': 'ricotta_cheese',\n 'serrano': 'serrano',\n 'steel-cut oats': 'steel-cut_oat',\n 'hazelnuts': 'hazelnut',\n 'hazelnut oil': 'hazelnut_oil',\n 'sweet cherries': 'sweet_cherry',\n 'fire roasted diced tomatoes': 'fire_roasted_diced_tomato',\n 'red kidnei beans, rins and drain': 'red_kidnei_bean_rins_drain',\n 'wasabi paste': 'wasabi_paste',\n 'black sesame seeds': 'black_sesame_seed',\n 'Japanese soy sauce': 'japanese_soy_sauce',\n 'fresh salmon': 'fresh_salmon',\n 'dried porcini mushrooms': 'dried_porcini_mushroom',\n 'dry red wine': 'dry_red_wine',\n 'hot water': 'hot_water',\n 'fat free less sodium beef broth': 'fat_free_le_sodium_beef_broth',\n 'cremini mushrooms': 'cremini_mushroom',\n 'creole mustard': 'creole_mustard',\n 'prepared horseradish': 'prepared_horseradish',\n 'celery salt': 'celery_salt',\n 'shrimp and crab boil seasoning': 'shrimp_crab_boil_seasoning',\n 'turnip greens': 'turnip_green',\n 'butternut squash': 'butternut_squash',\n 'apples': 'apple',\n 'country ham': 'country_ham',\n 'frozen edamame beans': 'frozen_edamame_bean',\n 'whole kernel corn, drain': 'whole_kernel_corn_drain',\n 'strong white bread flour': 'strong_white_bread_flour',\n 'salted butter': 'salted_butter',\n 'sunflower oil': 'sunflower_oil',\n 'kalonji': 'kalonji',\n 'instant yeast': 'instant_yeast',\n 'fresh coriander': 'fresh_coriander',\n 'cooked white rice': 'cooked_white_rice',\n 'mixed mushrooms': 'mixed_mushroom',\n 'wood ear mushrooms': 'wood_ear_mushroom',\n 'vegetables': 'vegetable',\n 'taco seasoning': 'taco_seasoning',\n 'bell pepper': 'bell_pepper',\n 'boneless skinless chicken breasts': 'boneless_skinless_chicken_breast',\n 'shredded cheese': 'shredded_cheese',\n 'eau de vie': 'eau_de_vie',\n 'leaves': 'leaf',\n 'cane sugar': 'cane_sugar',\n 'salt and ground black pepper': 'salt_ground_black_pepper',\n 'sliced black olives': 'sliced_black_olive',\n 'chopped green chilies': 'chopped_green_chilies',\n 'rosemary leaves': 'rosemary_leaf',\n 'lean steak': 'lean_steak',\n 'dried rosemary': 'dried_rosemary',\n 'water chestnuts, drained and chopped': 'water_chestnut_drained_chopped',\n 'chinese cabbage': 'chinese_cabbage',\n 'dipping sauces': 'dipping_sauce',\n 'lean ground pork': 'lean_ground_pork',\n 'pico de gallo': 'pico_de_gallo',\n 'cheese slices': 'cheese_slice',\n 'chorizo': 'chorizo',\n 'french bread': 'french_bread',\n 'dried dillweed': 'dried_dillweed',\n 'red wine': 'red_wine',\n 'lamb': 'lamb',\n 'plain yogurt': 'plain_yogurt',\n 'kale': 'kale',\n 'Mexican beer': 'mexican_beer',\n 'boneless beef short ribs': 'boneless_beef_short_rib',\n 'guajillo': 'guajillo',\n 'saffron threads': 'saffron_thread',\n 'fresh spinach': 'fresh_spinach',\n 'cannellini beans': 'cannellini_bean',\n 'shortening': 'shortening',\n 'pears': 'pear',\n 'light pancake syrup': 'light_pancake_syrup',\n 'puff pastry': 'puff_pastry',\n 'apple cider vinegar': 'apple_cider_vinegar',\n 'bone in chicken thighs': 'bone_in_chicken_thigh',\n 'fresh bay leaves': 'fresh_bay_leaf',\n 'cilantro': 'cilantro',\n 'skinless chicken breasts': 'skinless_chicken_breast',\n 'light sour cream': 'light_sour_cream',\n 'fava beans': 'fava_bean',\n 'fresh tarragon': 'fresh_tarragon',\n 'kidney beans': 'kidney_bean',\n 'orzo pasta': 'orzo_pasta',\n 'dri leav thyme': 'dri_leav_thyme',\n 'wasabi': 'wasabi',\n 'jumbo shrimp': 'jumbo_shrimp',\n 'sticky rice': 'sticky_rice',\n 'white sesame seeds': 'white_sesame_seed',\n 'chopped almonds': 'chopped_almond',\n 'baby arugula': 'baby_arugula',\n 'tequila': 'tequila',\n 'margarita mix': 'margarita_mix',\n 'crust': 'crust',\n 'grits': 'grit',\n 'pecan halves': 'pecan_half',\n 'corn syrup': 'corn_syrup',\n 'superfine sugar': 'superfine_sugar',\n 'blackberries': 'blackberry',\n 'whiskey': 'whiskey',\n 'luke warm water': 'luke_warm_water',\n 'active dry yeast': 'active_dry_yeast',\n 'fresh mint': 'fresh_mint',\n 'jamaican jerk season': 'jamaican_jerk_season',\n 'chicken drumsticks': 'chicken_drumstick',\n 'pitas': 'pita',\n 'goat cheese': 'goat_cheese',\n 'gingerroot': 'gingerroot',\n 'rib eye steaks': 'rib_eye_steak',\n 'hot bean paste': 'hot_bean_paste',\n 'medjool date': 'medjool_date',\n 'diced bell pepper': 'diced_bell_pepper',\n 'cream': 'cream',\n 'smoked paprika': 'smoked_paprika',\n 'reduced fat milk': 'reduced_fat_milk',\n 'smoked trout': 'smoked_trout',\n 'garlic puree': 'garlic_puree',\n 'green cardamom pods': 'green_cardamom_pod',\n 'tomato purée': 'tomato_puree',\n 'pickled jalapeno peppers': 'pickled_jalapeno_pepper',\n 'romaine lettuce leaves': 'romaine_lettuce_leaf',\n 'crema mexicana': 'crema_mexicana',\n 'chile sauce': 'chile_sauce',\n 'queso fresco': 'queso_fresco',\n 'Boston lettuce': 'boston_lettuce',\n 'persian cucumber': 'persian_cucumber',\n 'peanut butter': 'peanut_butter',\n 'rice paper': 'rice_paper',\n 'Korean chile flakes': 'korean_chile_flake',\n 'red chile powder': 'red_chile_powder',\n 'boneless chicken breast': 'boneless_chicken_breast',\n 'cashew nuts': 'cashew_nut',\n 'kasuri methi': 'kasuri_methi',\n 'mustard oil': 'mustard_oil',\n 'ginger paste': 'ginger_paste',\n 'cinnamon': 'cinnamon',\n 'tomato ketchup': 'tomato_ketchup',\n 'tostada shells': 'tostada_shell',\n 'grouper': 'grouper',\n 'corn kernels': 'corn_kernel',\n 'ricotta salata': 'ricotta_salata',\n 'pecorino cheese': 'pecorino_cheese',\n 'grana padano': 'grana_padano',\n 'kaffir lime leaves': 'kaffir_lime_leaf',\n 'corn': 'corn',\n 'soba noodles': 'soba_noodle',\n 'galangal': 'galangal',\n 'green curry paste': 'green_curry_paste',\n 'bamboo shoots': 'bamboo_shoot',\n 'chopped nuts': 'chopped_nut',\n 'bourbon whiskey': 'bourbon_whiskey',\n 'ketchup': 'ketchup',\n 'rhubarb': 'rhubarb',\n 'liquid': 'liquid',\n 'store bought low sodium chicken stock': 'store_bought_low_sodium_chicken_stock',\n 'safflower oil': 'safflower_oil',\n 'jeera': 'jeera',\n 'cardamom': 'cardamom',\n 'crema': 'crema',\n 'salmon steaks': 'salmon_steak',\n 'jam': 'jam',\n 'spring onions': 'spring_onion',\n 'free range egg': 'free_range_egg',\n 'jicama': 'jicama',\n 'water chestnuts': 'water_chestnut',\n 'diced celery': 'diced_celery',\n 'shredded sharp cheddar cheese': 'shredded_sharp_cheddar_cheese',\n 'dinner rolls': 'dinner_roll',\n 'fenugreek seeds': 'fenugreek_seed',\n 'boiling potatoes': 'boiling_potato',\n 'baby spinach': 'baby_spinach',\n 'tuna steaks': 'tuna_steak',\n 'spices': 'spice',\n 'octopuses': 'octopus',\n 'vidalia onion': 'vidalia_onion',\n 'smoked gouda': 'smoked_gouda',\n 'small red potato': 'small_red_potato',\n 'tuna': 'tuna',\n 'fat-free refried beans': 'fat-free_refried_bean',\n 'low-fat milk': 'low-fat_milk',\n 'fresh lime': 'fresh_lime',\n 'ground white pepper': 'ground_white_pepper',\n 'Bertolli Classico Olive Oil': 'bertolli_classico_olive_oil',\n 'bertolli vineyard premium collect marinara with burgundi wine sauc': 'bertolli_vineyard_premium_collect_marinara_burgundi_wine_sauc',\n 'bread crumb fresh': 'bread_crumb_fresh',\n '(    oz.) tomato sauce': 'tomato_sauce',\n 'ground veal': 'ground_veal',\n 'italian seasoning mix': 'italian_seasoning_mix',\n 'beef': 'beef',\n 'solid pack pumpkin': 'solid_pack_pumpkin',\n 'fresh thyme leaves': 'fresh_thyme_leaf',\n 'grapeseed oil': 'grapeseed_oil',\n 'organic sugar': 'organic_sugar',\n 'dried cherry': 'dried_cherry',\n 'straw mushrooms': 'straw_mushroom',\n 'vidalia': 'vidalia',\n 'haricots verts': 'haricot_verts',\n 'wax beans': 'wax_bean',\n 'prosciutto': 'prosciutto',\n 'romano cheese': 'romano_cheese',\n 'cooked shrimp': 'cooked_shrimp',\n 'crabmeat': 'crabmeat',\n 'strawberries': 'strawberry',\n 'green peppercorns': 'green_peppercorn',\n 'pork loin chops': 'pork_loin_chop',\n 'chipotle peppers': 'chipotle_pepper',\n 'filet': 'filet',\n 'thyme leaves': 'thyme_leaf',\n 'coffee beans': 'coffee_bean',\n 'vegan margarine': 'vegan_margarine',\n 'pork shoulder': 'pork_shoulder',\n 'parsley leaves': 'parsley_leaf',\n 'fresh raspberries': 'fresh_raspberry',\n 'frozen whole kernel corn': 'frozen_whole_kernel_corn',\n 'russet potatoes': 'russet_potato',\n 'mexican chorizo': 'mexican_chorizo',\n 'colby cheese': 'colby_cheese',\n 'half & half': 'half_half',\n 'dry vermouth': 'dry_vermouth',\n 'canned low sodium chicken broth': 'canned_low_sodium_chicken_broth',\n 'fresh lemon': 'fresh_lemon',\n 'toasted sesame seeds': 'toasted_sesame_seed',\n 'paneer cheese': 'paneer_cheese',\n 'lemon grass': 'lemon_grass',\n 'Thai fish sauce': 'thai_fish_sauce',\n 'english cucumber': 'english_cucumber',\n 'fillets': 'fillet',\n 'boneless center cut pork chops': 'boneless_center_cut_pork_chop',\n 'pork tenderloin': 'pork_tenderloin',\n 'shell-on shrimp': 'shell-on_shrimp',\n 'steamed white rice': 'steamed_white_rice',\n 'caramel sauce': 'caramel_sauce',\n 'chili pepper': 'chili_pepper',\n 'boneless skinless chicken': 'boneless_skinless_chicken',\n 'seasoned bread crumbs': 'seasoned_bread_crumb',\n 'bean threads': 'bean_thread',\n 'reduced sodium tamari': 'reduced_sodium_tamari',\n 'sourdough baguette': 'sourdough_baguette',\n 'green cardamom': 'green_cardamom',\n 'szechwan peppercorns': 'szechwan_peppercorn',\n 'cooking wine': 'cooking_wine',\n 'dried chile': 'dried_chile',\n 'rock sugar': 'rock_sugar',\n 'bean paste': 'bean_paste',\n 'brown cardamom': 'brown_cardamom',\n 'leg of lamb': 'leg_of_lamb',\n 'red kidney beans': 'red_kidney_bean',\n 'fresh mushrooms': 'fresh_mushroom',\n 'red radishes': 'red_radish',\n 'granulated garlic': 'granulated_garlic',\n 'beans': 'bean',\n 'jack cheese': 'jack_cheese',\n 'ricotta': 'ricotta',\n 'reduced sodium chicken broth': 'reduced_sodium_chicken_broth',\n 'mung bean sprouts': 'mung_bean_sprout',\n 'sesame paste': 'sesame_paste',\n 'pickled vegetables': 'pickled_vegetable',\n 'jaggery': 'jaggery',\n 'coconut': 'coconut',\n 'firmly packed brown sugar': 'firmly_packed_brown_sugar',\n 'chopped pecans': 'chopped_pecan',\n 'spam': 'spam',\n 'rice cakes': 'rice_cake',\n ...}"
      ]
     },
     "execution_count": 0,
     "metadata": {},
     "output_type": "execute_result"
    }
   ],
   "source": [
    "def refine(key, mapping):\n",
    "    \"\"\"\n",
    "    Extract useful part from ingredient's name\n",
    "    :param key: ingredient's name\n",
    "    :type key: str\n",
    "    :return: refined key\n",
    "    \"\"\"\n",
    "    \n",
    "    origin_key = key\n",
    "    \n",
    "    #  I found some rare characters in training set. First of all, I will use common characters\n",
    "    #  to substitute them.\n",
    "    #  e.g. \"crème fraîche\" --> \"creme fraiche\"\n",
    "    rare_character_mapping = {\"î\": \"i\", \"è\": \"e\", \"é\": \"e\", \"™\": \"\", \"í\": \"i\", \"ú\": \"u\", \"â\": \"a\", \"€\": \"\",\n",
    "                              \"â\": \"a\", \"ç\": \"c\", \"€\": \"\"}\n",
    "    for ch in rare_character_mapping:\n",
    "        key = key.replace(ch, rare_character_mapping[ch])\n",
    "\n",
    "    # what inside parentheses is supplementary description, not important, just discard.\n",
    "    #  E.g. \"(15 oz.) refried beans\" -> \"refried beans\"\n",
    "    regex1 = re.compile('\\(.*\\)')\n",
    "    rt = regex1.sub('', key.strip())\n",
    "\n",
    "    #  There are some ingredients like \"cream cheese with chives and onion\", containing several ingredients.\n",
    "    #  We need to extract each ingredient.\n",
    "    #  e.g. \"cream cheese with chives and onion\" -> [\"cream cheese\", \"chives\", \"onion\"]\n",
    "    regex2 = re.compile(' and |, | with | ')\n",
    "    tokens = [token.strip() for token in regex2.split(rt)]\n",
    "\n",
    "    #  replace numbers and other punctuations with _, actually numbers appeared like \"evaporated low-fat 2% milk\".\n",
    "    #  Therefore I think it is not very important. What we are interested are adjectives and nouns.\n",
    "    regex3 = re.compile('[^A-Za-z- ]')\n",
    "    tokens = [regex3.sub('', token).lower().strip() for token in tokens]\n",
    "\n",
    "    wnl = nltk.WordNetLemmatizer()\n",
    "    lemmatized_words = [wnl.lemmatize(token) for token in tokens if token != '']\n",
    "    rt = '_'.join(lemmatized_words)\n",
    "\n",
    "    mapping[origin_key] = rt\n",
    "    return rt\n",
    "\n",
    "simplify_mapping = {}\n",
    "simplified_ingreidents_counter = {refine(k, simplify_mapping): v for k, v in\n",
    "                                  simplified_ingreidents_counter.items()}\n",
    "display(simplify_mapping)"
   ]
  },
  {
   "cell_type": "markdown",
   "metadata": {},
   "source": [
    "We use **simplify_mapping** to help us tranform the ingredients in training and test set to their simplified form. Now let's begin our transformation. "
   ]
  },
  {
   "cell_type": "code",
   "execution_count": 270,
   "metadata": {},
   "outputs": [
    {
     "data": {
      "text/plain": [
       "['romaine_lettuce black_olive grape_tomato garlic pepper purple_onion seasoning garbanzo_bean feta_cheese_crumbles',\n 'plain_flour ground_pepper salt tomato ground_black_pepper thyme egg green_tomato yellow_corn_meal milk vegetable_oil',\n 'egg pepper salt mayonaise cooking_oil green_chilies grilled_chicken_breast garlic_powder yellow_onion soy_sauce butter chicken_liver']"
      ]
     },
     "execution_count": 0,
     "metadata": {},
     "output_type": "execute_result"
    },
    {
     "data": {
      "text/plain": [
       "['baking_powder egg all-purpose_flour raisin milk white_sugar',\n 'sugar egg_yolk corn_starch cream_of_tartar banana vanilla_wafer milk vanilla_extract toasted_pecan egg_white light_rum',\n 'sausage_link fennel_bulb frond olive_oil cuban_pepper onion']"
      ]
     },
     "execution_count": 0,
     "metadata": {},
     "output_type": "execute_result"
    }
   ],
   "source": [
    "train_text = []\n",
    "for ingredients in train_df['ingredients']:\n",
    "    simplified_ingredients = [simplify_mapping[ingredient] for ingredient in ingredients if ingredient in simplify_mapping]\n",
    "    text = ' '.join(simplified_ingredients)\n",
    "    train_text.append(text)\n",
    "\n",
    "test_text = []\n",
    "for ingredients in test_df['ingredients']:\n",
    "    simplified_ingredients = [simplify_mapping[ingredient] for ingredient in ingredients if ingredient in simplify_mapping]\n",
    "    text = ' '.join(simplified_ingredients)\n",
    "    test_text.append(text)\n",
    "display(train_text[:3])\n",
    "display(test_text[:3])"
   ]
  },
  {
   "cell_type": "markdown",
   "metadata": {},
   "source": [
    "First, we transform those popular ingredients into their simplified form. Then we use ' ' to join simplified ingredients in one recipe, which is the preprocessing for using **CountVectorizer** to represent our data in matrix form."
   ]
  },
  {
   "cell_type": "code",
   "execution_count": null,
   "metadata": {},
   "outputs": [
    {
     "data": {
      "text/plain": [
       "array([3, 3, 4], dtype=int64)"
      ]
     },
     "execution_count": 0,
     "metadata": {},
     "output_type": "execute_result"
    }
   ],
   "source": [
    "# vectorizer = CountVectorizer()\n",
    "# label_encoder = LabelEncoder()\n",
    "# \n",
    "# ingredients_text_list = [' '.join(ingredients) for ingredients in list(ingredients_train_df)]\n",
    "# train_X = np.array(vectorizer.fit_transform(ingredients_text_list).toarray())\n",
    "# train_Y = np.array(label_encoder.fit_transform(labels_train_df))\n",
    "# test_X = np.array(vectorizer.transform(\n",
    "#     [' '.join(ingredients) for ingredients in list(ingredients_test_df)]).toarray())\n",
    "from sklearn.feature_extraction.text import CountVectorizer\n",
    "from sklearn.preprocessing import LabelEncoder\n",
    "\n",
    "vectorizer = CountVectorizer(vocabulary=simplify_mapping.keys())\n",
    "encoder = LabelEncoder()\n",
    "\n",
    "train_X = np.array(vectorizer.fit_transform(train_text).toarray())\n",
    "train_Y = np.array(encoder.fit_transform(train_df['cuisine']))\n",
    "\n",
    "test_X = np.array(vectorizer.transform(test_text).toarray())\n",
    "\n",
    "display(np.sum(train_X[:3], axis=1))"
   ]
  },
  {
   "cell_type": "markdown",
   "metadata": {},
   "source": [
    "We have transform all the data into matrix form. CountVectorizer use **Bag-of-words** model to represent text."
   ]
  },
  {
   "cell_type": "code",
   "execution_count": 272,
   "metadata": {},
   "outputs": [
    {
     "name": "stdout",
     "output_type": "stream",
     "text": [
      "[ 0.47191435  0.47477185  0.46883489]\n"
     ]
    }
   ],
   "source": [
    "from sklearn import model_selection\n",
    "from sklearn.linear_model import LogisticRegression\n",
    "\n",
    "lr_clf = LogisticRegression()\n",
    "\n",
    "score = model_selection.cross_val_score(lr_clf, train_X, train_Y)\n",
    "\n",
    "print(score)"
   ]
  },
  {
   "cell_type": "code",
   "execution_count": 273,
   "metadata": {},
   "outputs": [
    {
     "data": {
      "text/plain": [
       "<matplotlib.axes._subplots.AxesSubplot at 0x1b0c5dbcba8>"
      ]
     },
     "execution_count": 273,
     "metadata": {},
     "output_type": "execute_result"
    },
    {
     "data": {
      "image/png": "[encoded data removed]",
      "text/plain": [
       "<matplotlib.figure.Figure at 0x1b0cb1c86a0>"
      ]
     },
     "metadata": {},
     "output_type": "display_data"
    }
   ],
   "source": [
    "mpl.rcParams['figure.figsize'] = (20,15)\n",
    "mpl.rcParams['axes.labelsize'] = 20\n",
    "mpl.rcParams['xtick.labelsize'] = 15\n",
    "mpl.rcParams['ytick.labelsize'] = 15\n",
    "sns.plt.rcParams['axes.titlesize'] = 20\n",
    "sns.plt.title('Cuisine Distribution')\n",
    "sns.countplot(y='cuisine', data=train_df)\n"
   ]
  }
 ],
 "metadata": {
  "kernelspec": {
   "display_name": "Python 3",
   "language": "python",
   "name": "python3"
  },
  "language_info": {
   "codemirror_mode": {
    "name": "ipython",
    "version": 3
   },
   "file_extension": ".py",
   "mimetype": "text/x-python",
   "name": "python",
   "nbconvert_exporter": "python",
   "pygments_lexer": "ipython3",
   "version": "3.6.1"
  }
 },
 "nbformat": 4,
 "nbformat_minor": 1
}
